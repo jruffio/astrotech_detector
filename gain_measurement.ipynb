{
 "cells": [
  {
   "cell_type": "markdown",
   "id": "e5ff26dd",
   "metadata": {},
   "source": [
    "# Gain Measurement Notebook\n",
    "\n",
    "In this notebook, you will acquire an image with a 0.1 second exposure, extract a 100x100 pixel region from the center, and compute the detector gain using the mean and variance of the pixel values in this region.\n",
    "\n",
    "**Learning objectives:**\n",
    "- Understand the concept of detector gain\n",
    "- Calculate gain using the mean and variance method"
   ]
  },
  {
   "cell_type": "code",
   "execution_count": null,
   "id": "80efb43f",
   "metadata": {},
   "outputs": [],
   "source": [
    "import numpy as np\n",
    "import matplotlib.pyplot as plt\n",
    "from utils import acquire_images\n",
    "# Define the directory where the images will be saved\n",
    "outdir = \".\\\\fix\\\\this\\\\path\\\\images\""
   ]
  },
  {
   "cell_type": "markdown",
   "id": "d72f83a5",
   "metadata": {},
   "source": [
    "# Experiment Setup\n",
    "We will acquire a single image with a 0.1 second (100 ms) exposure. From this image, we will extract a 100x100 pixel region from the center. The mean and variance of the pixel values in this region will be used to estimate the detector gain."
   ]
  },
  {
   "cell_type": "code",
   "execution_count": null,
   "id": "9306d08d",
   "metadata": {},
   "outputs": [],
   "source": [
    "# Acquire a single image with 0.1s (100 ms) exposure\n",
    "tint = 100000  # 0.1 s in microseconds\n",
    "Ncoadd = 1\n",
    "images = acquire_images(tint, Ncoadd)\n",
    "img = images[0]\n",
    "\n",
    "plt.figure(figsize=(6,5))\n",
    "plt.imshow(img, cmap='gray')\n",
    "plt.title('Acquired Image (0.1s exposure)')\n",
    "plt.colorbar(label='Pixel Value')\n",
    "plt.show()\n",
    "print(f\"Image shape: {img.shape}, dtype: {img.dtype}\")"
   ]
  },
  {
   "cell_type": "code",
   "execution_count": null,
   "id": "e281ad45",
   "metadata": {},
   "outputs": [],
   "source": [
    "# Extract a 100x100 pixel region from the center\n",
    "h, w = img.shape\n",
    "center_y, center_x = h // 2, w // 2\n",
    "half_size = 50\n",
    "roi = img[center_y-half_size:center_y+half_size, center_x-half_size:center_x+half_size]\n",
    "\n",
    "plt.figure(figsize=(5,5))\n",
    "plt.imshow(roi, cmap='gray')\n",
    "plt.title('Center 100x100 Region')\n",
    "plt.colorbar(label='Pixel Value')\n",
    "plt.show()\n",
    "print(f\"ROI shape: {roi.shape}, dtype: {roi.dtype}\")"
   ]
  },
  {
   "cell_type": "code",
   "execution_count": null,
   "id": "5aab8350",
   "metadata": {},
   "outputs": [],
   "source": [
    "# Compute mean, variance, and gain for the region of interest (ROI)\n",
    "mean_val = np.mean(roi)\n",
    "var_val = np.var(roi)\n",
    "\n",
    "# Gain estimation: gain = mean / variance (for Poisson-limited signal)\n",
    "gain = mean_val / var_val\n",
    "\n",
    "print(f\"Mean of ROI: {mean_val:.2f}\")\n",
    "print(f\"Variance of ROI: {var_val:.2f}\")\n",
    "print(f\"Estimated Gain (mean/variance): {gain:.4f} e-/ADU\")\n",
    "\n",
    "plt.figure(figsize=(6,4))\n",
    "plt.hist(roi.flatten(), bins=50, color='green', alpha=0.7)\n",
    "plt.xlabel('Pixel Value')\n",
    "plt.ylabel('Count')\n",
    "plt.title('Histogram of Center ROI')\n",
    "plt.grid(True)\n",
    "plt.tight_layout()\n",
    "plt.show()"
   ]
  }
 ],
 "metadata": {
  "kernelspec": {
   "display_name": "astrotech_310",
   "language": "python",
   "name": "python3"
  },
  "language_info": {
   "codemirror_mode": {
    "name": "ipython",
    "version": 3
   },
   "file_extension": ".py",
   "mimetype": "text/x-python",
   "name": "python",
   "nbconvert_exporter": "python",
   "pygments_lexer": "ipython3",
   "version": "3.10.18"
  }
 },
 "nbformat": 4,
 "nbformat_minor": 5
}
