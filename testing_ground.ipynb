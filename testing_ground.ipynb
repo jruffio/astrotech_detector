{
 "cells": [
  {
   "cell_type": "code",
   "execution_count": 4,
   "id": "70b1f524",
   "metadata": {},
   "outputs": [
    {
     "name": "stdout",
     "output_type": "stream",
     "text": [
      "Saved stack and mean image to C:\\Users\\JB_Ch\\Documents\\code\\astrotech\\images\\bias_tint11_coadd1.fits\n",
      "Type: <class 'numpy.ndarray'>\n"
     ]
    }
   ],
   "source": [
    "import numpy as np\n",
    "import matplotlib.pyplot as plt\n",
    "from utils import acquire_images\n",
    "# Define exposure times in microseconds (us)\n",
    "Ncoadd = 1  # Number of images to coadd for each exposure time\n",
    "outdir = \"C:\\\\Users\\\\JB_Ch\\\\Documents\\\\code\\\\astrotech\\\\images\"  # Output directory for images\n",
    "images = acquire_images(11, Ncoadd, outdir=outdir, prefix=\"bias\")\n",
    "print(\"Type:\", type(images))"
   ]
  },
  {
   "cell_type": "code",
   "execution_count": null,
   "id": "07482cd1",
   "metadata": {},
   "outputs": [],
   "source": [
    "\n",
    "print(\"Array dtype:\", images.dtype)\n",
    "if images.size > 0:\n",
    "    print(\"First element type:\", type(images.flat[0]))\n",
    "print(\"Shape:\", images.shape)\n",
    "print(\"Median:\", np.nanmedian(images))\n",
    "# Plot the first image if images is a numpy array\n",
    "if images.ndim == 3:\n",
    "    plt.imshow(images[0], cmap='gray')\n",
    "    plt.title('First Image in Stack')\n",
    "    plt.colorbar()\n",
    "    plt.show()\n",
    "    data_to_plot = images[0].flatten()\n",
    "elif images.ndim == 2:\n",
    "    plt.imshow(images, cmap='gray')\n",
    "    plt.title('Image')\n",
    "    plt.colorbar()\n",
    "    plt.show()\n",
    "    data_to_plot = images.flatten()\n",
    "else:\n",
    "    print(\"Array has unexpected number of dimensions:\", images.ndim)\n",
    "    data_to_plot = None\n",
    "# Plot histogram\n",
    "if data_to_plot is not None:\n",
    "    plt.figure(figsize=(6,4))\n",
    "    plt.hist(data_to_plot, bins=100, color='blue', alpha=0.7)\n",
    "    plt.xlabel('Pixel Value')\n",
    "    plt.ylabel('Count')\n",
    "    plt.title('Histogram of Pixel Values')\n",
    "    plt.grid(True)\n",
    "    plt.tight_layout()\n",
    "    plt.show()"
   ]
  },
  {
   "cell_type": "code",
   "execution_count": 4,
   "id": "7568eecb",
   "metadata": {},
   "outputs": [
    {
     "name": "stdout",
     "output_type": "stream",
     "text": [
      "Saved stack and mean image to C:\\Users\\JB_Ch\\Documents\\code\\astrotech\\images\\bias_tint11_coadd2.fits\n"
     ]
    }
   ],
   "source": []
  },
  {
   "cell_type": "code",
   "execution_count": 6,
   "id": "0784d6d4",
   "metadata": {},
   "outputs": [
    {
     "name": "stdout",
     "output_type": "stream",
     "text": [
      "0.0\n"
     ]
    }
   ],
   "source": []
  },
  {
   "cell_type": "code",
   "execution_count": null,
   "id": "b714760d",
   "metadata": {},
   "outputs": [],
   "source": []
  }
 ],
 "metadata": {
  "kernelspec": {
   "display_name": "astrotech_310",
   "language": "python",
   "name": "python3"
  },
  "language_info": {
   "codemirror_mode": {
    "name": "ipython",
    "version": 3
   },
   "file_extension": ".py",
   "mimetype": "text/x-python",
   "name": "python",
   "nbconvert_exporter": "python",
   "pygments_lexer": "ipython3",
   "version": "3.10.18"
  }
 },
 "nbformat": 4,
 "nbformat_minor": 5
}
