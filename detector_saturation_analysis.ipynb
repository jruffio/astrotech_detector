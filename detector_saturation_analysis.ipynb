{
 "cells": [
  {
   "cell_type": "markdown",
   "id": "e9423a07",
   "metadata": {},
   "source": [
    "# Detector Saturation Analysis\n",
    "\n",
    "In this notebook, you will acquire images from a camera at increasing exposure times to explore the concept of detector saturation. By analyzing the pixel value distributions, you will identify the exposure time at which the detector saturates (i.e., when pixels reach their maximum value and can no longer record additional signal).\n",
    "\n",
    "**Learning objectives:**\n",
    "- Understand how exposure time affects image brightness and detector response.\n",
    "- Learn to identify detector saturation from image data and histograms."
   ]
  },
  {
   "cell_type": "code",
   "execution_count": null,
   "id": "76d725c4",
   "metadata": {},
   "outputs": [],
   "source": [
    "import numpy as np\n",
    "import matplotlib.pyplot as plt\n",
    "from utils import acquire_images\n",
    "print(\"test\")"
   ]
  },
  {
   "cell_type": "markdown",
   "id": "a9ceb952",
   "metadata": {},
   "source": [
    "# Experiment Setup\n",
    "We will acquire images at a series of increasing exposure times, up to a maximum of 10 seconds. For each exposure time, we will analyze the image to look for signs of detector saturation. Typically, saturation occurs when pixel values reach the maximum allowed by the detector's bit depth (e.g., 255 for 8-bit, 65535 for 16-bit).\n",
    "\n",
    "**Instructions:**\n",
    "- Run the code cells below to acquire and analyze images.\n",
    "- Observe how the image and its histogram change as exposure time increases.\n",
    "- Identify the exposure time at which saturation first occurs."
   ]
  },
  {
   "cell_type": "code",
   "execution_count": 10,
   "id": "fef9965a",
   "metadata": {},
   "outputs": [],
   "source": [
    "# Define exposure times (in microseconds) from 0.01s to 10s\n",
    "exposure_times = np.logspace(2, 6, num=20, dtype=int)\n",
    "Ncoadd = 1  # Single image per exposure time for saturation test\n",
    "outdir = \"C:\\\\Users\\\\JB_Ch\\\\Documents\\\\code\\\\astrotech\\\\images\"  # Output directory for images\n",
    "prefix = \"sat_test\""
   ]
  },
  {
   "cell_type": "markdown",
   "id": "604efd28",
   "metadata": {},
   "source": [
    "# Acquire and Analyze Images\n",
    "For each exposure time, we will:\n",
    "- Acquire an image\n",
    "- Display the image\n",
    "- Plot a histogram of pixel values\n",
    "\n",
    "Look for the appearance of a sharp peak at the maximum pixel value, which indicates saturation."
   ]
  },
  {
   "cell_type": "code",
   "execution_count": 11,
   "id": "894aa094",
   "metadata": {},
   "outputs": [
    {
     "name": "stdout",
     "output_type": "stream",
     "text": [
      "--- Exposure time: 0.000 s ---\n",
      "Camera temperature: 60.12 °C\n",
      "Saved stack and mean image to C:\\Users\\JB_Ch\\Documents\\code\\astrotech\\images\\sat_test_tint100_coadd1.fits\n",
      "Image shape: (1240, 1616), dtype: uint16, Max: 14688, Median: 64.0, Mean: 64.13\n",
      "--- Exposure time: 0.000 s ---\n",
      "Camera temperature: 60.25 °C\n",
      "Saved stack and mean image to C:\\Users\\JB_Ch\\Documents\\code\\astrotech\\images\\sat_test_tint162_coadd1.fits\n",
      "Image shape: (1240, 1616), dtype: uint16, Max: 14784, Median: 112.0, Mean: 110.25\n",
      "--- Exposure time: 0.000 s ---\n",
      "Camera temperature: 60.12 °C\n",
      "Saved stack and mean image to C:\\Users\\JB_Ch\\Documents\\code\\astrotech\\images\\sat_test_tint263_coadd1.fits\n",
      "Image shape: (1240, 1616), dtype: uint16, Max: 14752, Median: 192.0, Mean: 185.58\n",
      "--- Exposure time: 0.000 s ---\n",
      "Camera temperature: 60.12 °C\n",
      "Saved stack and mean image to C:\\Users\\JB_Ch\\Documents\\code\\astrotech\\images\\sat_test_tint428_coadd1.fits\n",
      "Image shape: (1240, 1616), dtype: uint16, Max: 15072, Median: 304.0, Mean: 305.64\n",
      "--- Exposure time: 0.001 s ---\n",
      "Camera temperature: 60.12 °C\n",
      "Saved stack and mean image to C:\\Users\\JB_Ch\\Documents\\code\\astrotech\\images\\sat_test_tint695_coadd1.fits\n",
      "Image shape: (1240, 1616), dtype: uint16, Max: 14992, Median: 480.0, Mean: 487.92\n",
      "--- Exposure time: 0.001 s ---\n",
      "Camera temperature: 60.25 °C\n",
      "Saved stack and mean image to C:\\Users\\JB_Ch\\Documents\\code\\astrotech\\images\\sat_test_tint1128_coadd1.fits\n",
      "Image shape: (1240, 1616), dtype: uint16, Max: 15104, Median: 800.0, Mean: 798.17\n",
      "--- Exposure time: 0.002 s ---\n",
      "Camera temperature: 60.25 °C\n",
      "Saved stack and mean image to C:\\Users\\JB_Ch\\Documents\\code\\astrotech\\images\\sat_test_tint1832_coadd1.fits\n",
      "Image shape: (1240, 1616), dtype: uint16, Max: 15344, Median: 1280.0, Mean: 1284.81\n",
      "--- Exposure time: 0.003 s ---\n",
      "Camera temperature: 60.12 °C\n",
      "Saved stack and mean image to C:\\Users\\JB_Ch\\Documents\\code\\astrotech\\images\\sat_test_tint2976_coadd1.fits\n",
      "Image shape: (1240, 1616), dtype: uint16, Max: 16160, Median: 2096.0, Mean: 2092.86\n",
      "--- Exposure time: 0.005 s ---\n",
      "Camera temperature: 60.12 °C\n",
      "Saved stack and mean image to C:\\Users\\JB_Ch\\Documents\\code\\astrotech\\images\\sat_test_tint4832_coadd1.fits\n",
      "Image shape: (1240, 1616), dtype: uint16, Max: 16656, Median: 3280.0, Mean: 3284.34\n",
      "--- Exposure time: 0.008 s ---\n",
      "Camera temperature: 60.25 °C\n",
      "Saved stack and mean image to C:\\Users\\JB_Ch\\Documents\\code\\astrotech\\images\\sat_test_tint7847_coadd1.fits\n",
      "Image shape: (1240, 1616), dtype: uint16, Max: 18368, Median: 5424.0, Mean: 5437.81\n",
      "--- Exposure time: 0.013 s ---\n",
      "Camera temperature: 60.25 °C\n",
      "Saved stack and mean image to C:\\Users\\JB_Ch\\Documents\\code\\astrotech\\images\\sat_test_tint12742_coadd1.fits\n",
      "Image shape: (1240, 1616), dtype: uint16, Max: 21072, Median: 8960.0, Mean: 8994.86\n",
      "--- Exposure time: 0.021 s ---\n",
      "Camera temperature: 60.25 °C\n",
      "Saved stack and mean image to C:\\Users\\JB_Ch\\Documents\\code\\astrotech\\images\\sat_test_tint20691_coadd1.fits\n",
      "Image shape: (1240, 1616), dtype: uint16, Max: 25968, Median: 14784.0, Mean: 14851.22\n",
      "--- Exposure time: 0.034 s ---\n",
      "Camera temperature: 60.25 °C\n",
      "Saved stack and mean image to C:\\Users\\JB_Ch\\Documents\\code\\astrotech\\images\\sat_test_tint33598_coadd1.fits\n",
      "Image shape: (1240, 1616), dtype: uint16, Max: 38816, Median: 23920.0, Mean: 24045.15\n",
      "--- Exposure time: 0.055 s ---\n",
      "Camera temperature: 60.12 °C\n",
      "Saved stack and mean image to C:\\Users\\JB_Ch\\Documents\\code\\astrotech\\images\\sat_test_tint54555_coadd1.fits\n",
      "Image shape: (1240, 1616), dtype: uint16, Max: 63696, Median: 39088.0, Mean: 39320.01\n",
      "--- Exposure time: 0.089 s ---\n",
      "Camera temperature: 60.12 °C\n",
      "Saved stack and mean image to C:\\Users\\JB_Ch\\Documents\\code\\astrotech\\images\\sat_test_tint88586_coadd1.fits\n",
      "Image shape: (1240, 1616), dtype: uint16, Max: 65520, Median: 62752.0, Mean: 62945.33\n",
      "--- Exposure time: 0.144 s ---\n",
      "Camera temperature: 60.25 °C\n",
      "Saved stack and mean image to C:\\Users\\JB_Ch\\Documents\\code\\astrotech\\images\\sat_test_tint143844_coadd1.fits\n",
      "Image shape: (1240, 1616), dtype: uint16, Max: 65520, Median: 65520.0, Mean: 65519.98\n",
      "--- Exposure time: 0.234 s ---\n",
      "Camera temperature: 60.12 °C\n",
      "Saved stack and mean image to C:\\Users\\JB_Ch\\Documents\\code\\astrotech\\images\\sat_test_tint233572_coadd1.fits\n",
      "Image shape: (1240, 1616), dtype: uint16, Max: 65520, Median: 65520.0, Mean: 65519.98\n",
      "--- Exposure time: 0.379 s ---\n",
      "Camera temperature: 60.25 °C\n",
      "Saved stack and mean image to C:\\Users\\JB_Ch\\Documents\\code\\astrotech\\images\\sat_test_tint379269_coadd1.fits\n",
      "Image shape: (1240, 1616), dtype: uint16, Max: 65520, Median: 65520.0, Mean: 65519.98\n",
      "--- Exposure time: 0.616 s ---\n",
      "Camera temperature: 60.12 °C\n",
      "Saved stack and mean image to C:\\Users\\JB_Ch\\Documents\\code\\astrotech\\images\\sat_test_tint615848_coadd1.fits\n",
      "Image shape: (1240, 1616), dtype: uint16, Max: 65520, Median: 65520.0, Mean: 65519.98\n",
      "--- Exposure time: 1.000 s ---\n",
      "Camera temperature: 60.25 °C\n",
      "Saved stack and mean image to C:\\Users\\JB_Ch\\Documents\\code\\astrotech\\images\\sat_test_tint1000000_coadd1.fits\n",
      "Image shape: (1240, 1616), dtype: uint16, Max: 65520, Median: 65520.0, Mean: 65519.97\n"
     ]
    },
    {
     "data": {
      "image/png": "[encoded data removed]",
      "text/plain": [
       "<Figure size 800x600 with 1 Axes>"
      ]
     },
     "metadata": {},
     "output_type": "display_data"
    }
   ],
   "source": [
    "# Arrays to store statistics\n",
    "max_counts = []\n",
    "median_counts = []\n",
    "mean_counts = []\n",
    "\n",
    "for tint in exposure_times:\n",
    "    print(f\"--- Exposure time: {tint/1e6:.3f} s ---\")\n",
    "    images = acquire_images(tint, Ncoadd, outdir=outdir, prefix=prefix)\n",
    "    img = images[0] if images.ndim == 3 else images\n",
    "    max_counts.append(np.max(img))\n",
    "    median_counts.append(np.median(img))\n",
    "    mean_counts.append(np.mean(img))\n",
    "    print(f\"Image shape: {img.shape}, dtype: {img.dtype}, Max: {np.max(img)}, Median: {np.median(img)}, Mean: {np.mean(img):.2f}\")\n",
    "\n",
    "# Convert to numpy arrays\n",
    "max_counts = np.array(max_counts)\n",
    "median_counts = np.array(median_counts)\n",
    "mean_counts = np.array(mean_counts)\n",
    "\n",
    "# Plot counts vs exposure time\n",
    "plt.figure(figsize=(8,6))\n",
    "# plt.plot(exposure_times/1e6, max_counts, 'o-', label='Max count')\n",
    "plt.plot(exposure_times/1e6, median_counts, 's-', label='Median count')\n",
    "# plt.plot(exposure_times/1e6, mean_counts, '^-', label='Mean count')\n",
    "plt.xlabel('Exposure Time (s)')\n",
    "plt.ylabel('Pixel Value (ADU)')\n",
    "plt.title('Pixel Value vs Exposure Time')\n",
    "plt.legend()\n",
    "plt.grid(True)\n",
    "plt.tight_layout()\n",
    "plt.show()\n"
   ]
  },
  {
   "cell_type": "markdown",
   "id": "7cc3315c",
   "metadata": {},
   "source": [
    "# Student Exercise: Identify Saturation Point\n",
    "\n",
    "- At which exposure time do you first observe saturation in the image or histogram?\n",
    "- What is the maximum pixel value for your detector? (Check the histogram's x-axis.)\n",
    "- Why is it important to avoid saturation in scientific imaging?\n",
    "\n",
    "Discuss your findings with your classmates or instructor."
   ]
  }
 ],
 "metadata": {
  "kernelspec": {
   "display_name": "astrotech_310",
   "language": "python",
   "name": "python3"
  },
  "language_info": {
   "codemirror_mode": {
    "name": "ipython",
    "version": 3
   },
   "file_extension": ".py",
   "mimetype": "text/x-python",
   "name": "python",
   "nbconvert_exporter": "python",
   "pygments_lexer": "ipython3",
   "version": "3.10.18"
  }
 },
 "nbformat": 4,
 "nbformat_minor": 5
}
