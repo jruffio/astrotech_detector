{
 "cells": [
  {
   "cell_type": "markdown",
   "id": "e9423a07",
   "metadata": {},
   "source": [
    "# Detector Saturation Analysis\n",
    "\n",
    "In this notebook, you will acquire images from a camera at increasing exposure times to explore the concept of detector saturation. By analyzing the pixel value distributions, you will identify the exposure time at which the detector saturates (i.e., when pixels reach their maximum value and can no longer record additional signal).\n",
    "\n",
    "**Learning objectives:**\n",
    "- Understand how exposure time affects image brightness and detector response.\n",
    "- Learn to identify detector saturation from image data and histograms."
   ]
  },
  {
   "cell_type": "code",
   "execution_count": null,
   "id": "76d725c4",
   "metadata": {},
   "outputs": [],
   "source": [
    "import numpy as np\n",
    "import matplotlib.pyplot as plt\n",
    "from utils import acquire_images\n",
    "from copy import copy\n",
    "from astropy.io import fits\n",
    "import os\n",
    "# Define the directory where the images will be saved\n",
    "outdir = \".\\\\fix\\\\this\\\\path\\\\images\""
   ]
  },
  {
   "cell_type": "markdown",
   "id": "a9ceb952",
   "metadata": {},
   "source": [
    "# Experiment Setup\n",
    "We will acquire images at a series of increasing exposure times, up to a maximum of 10 seconds. For each exposure time, we will analyze the image to look for signs of detector saturation. Typically, saturation occurs when pixel values reach the maximum allowed by the detector's bit depth (e.g., 255 for 8-bit, 65535 for 16-bit).\n",
    "\n",
    "**Instructions:**\n",
    "- Run the code cells below to acquire and analyze images.\n",
    "- Observe how the image and its histogram change as exposure time increases.\n",
    "- Identify the exposure time at which saturation first occurs."
   ]
  },
  {
   "cell_type": "code",
   "execution_count": null,
   "id": "fef9965a",
   "metadata": {},
   "outputs": [],
   "source": [
    "# Define exposure times (in microseconds) from 0.01s to 10s\n",
    "exposure_times = np.logspace(2, 6, num=20, dtype=int)\n",
    "Ncoadd = 1  # Single image per exposure time for saturation test\n",
    "prefix = \"saturation_test\""
   ]
  },
  {
   "cell_type": "markdown",
   "id": "604efd28",
   "metadata": {},
   "source": [
    "# Acquire and Analyze Images\n",
    "For each exposure time, we will:\n",
    "- Acquire an image\n",
    "- Display the image\n",
    "\n",
    "Look for the appearance of a sharp peak at the maximum pixel value, which indicates saturation."
   ]
  },
  {
   "cell_type": "code",
   "execution_count": null,
   "id": "894aa094",
   "metadata": {},
   "outputs": [],
   "source": [
    "for tint in exposure_times:\n",
    "    print(f\"\\n--- Exposure time: {tint/1e6:.3f} s ---\")\n",
    "    images = acquire_images(tint, Ncoadd, outdir=outdir, prefix=prefix)\n"
   ]
  },
  {
   "cell_type": "code",
   "execution_count": null,
   "id": "354577c2",
   "metadata": {},
   "outputs": [],
   "source": [
    "medians = []\n",
    "for tint in exposure_times:\n",
    "    # Construct filename for FITS files\n",
    "    filename = os.path.join(outdir, f\"{prefix}_tint{int(tint)}_coadd{Ncoadd}.fits\")\n",
    "    print(f\"Reading {filename}...\")\n",
    "    hdul = fits.open(filename)\n",
    "    img = hdul['MEAN'].data\n",
    "    hdul.close()\n",
    "    print(img.shape, img.dtype, np.min(img), np.max(img))\n",
    "    medians.append(np.median(img))\n",
    "\n",
    "plt.figure()\n",
    "plt.plot(exposure_times / 1e6, medians, marker='o')\n",
    "plt.xlabel('Exposure Time (s)')\n",
    "plt.ylabel('Median Pixel Value')\n",
    "plt.title('Median Counts vs Exposure Time')\n",
    "plt.grid(True)\n",
    "plt.show()"
   ]
  },
  {
   "cell_type": "markdown",
   "id": "7cc3315c",
   "metadata": {},
   "source": [
    "# Questions: Identify Saturation Point\n",
    "\n",
    "- At which exposure time do you first observe saturation in the image ?\n",
    "- What is the maximum pixel value for your detector?\n",
    "- Will the detector always saturate at the same exposure time? What does it depend on?"
   ]
  },
  {
   "cell_type": "code",
   "execution_count": null,
   "id": "8434cb8b",
   "metadata": {},
   "outputs": [],
   "source": [
    "#Write your code here"
   ]
  }
 ],
 "metadata": {
  "kernelspec": {
   "display_name": "astrotech_310",
   "language": "python",
   "name": "python3"
  },
  "language_info": {
   "codemirror_mode": {
    "name": "ipython",
    "version": 3
   },
   "file_extension": ".py",
   "mimetype": "text/x-python",
   "name": "python",
   "nbconvert_exporter": "python",
   "pygments_lexer": "ipython3",
   "version": "3.10.18"
  }
 },
 "nbformat": 4,
 "nbformat_minor": 5
}
