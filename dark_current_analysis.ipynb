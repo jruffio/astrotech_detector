{
 "cells": [
  {
   "cell_type": "markdown",
   "id": "2513ffd5",
   "metadata": {},
   "source": [
    "# Import Required Libraries\n",
    "This notebook analyzes the dark current as a function of exposure time using the FLIR/Spinnaker camera. We will import numpy, matplotlib, and the `acquire_images` function from `utils.py`."
   ]
  },
  {
   "cell_type": "code",
   "execution_count": null,
   "id": "b55b9913",
   "metadata": {},
   "outputs": [],
   "source": [
    "import numpy as np\n",
    "import matplotlib.pyplot as plt\n",
    "from utils import acquire_images\n",
    "from astropy.io import fits\n",
    "import os\n",
    "# Define the directory where the images will be saved\n",
    "outdir = \".\\\\fix\\\\this\\\\path\\\\images\""
   ]
  },
  {
   "cell_type": "markdown",
   "id": "a6695ddc",
   "metadata": {},
   "source": [
    "# Define Exposure Times\n",
    "Set up the exposure times (in microseconds) using `np.logspace` to cover a wide range for dark current analysis."
   ]
  },
  {
   "cell_type": "code",
   "execution_count": null,
   "id": "baf32ae5",
   "metadata": {},
   "outputs": [],
   "source": [
    "# Define exposure times in microseconds (us)\n",
    "exposure_times = np.logspace(5, 7, num=4, dtype=int)\n",
    "Ncoadd = 2  # Number of images to coadd for each exposure time\n",
    "prefix = \"dark_hot\"  # Prefix for output files"
   ]
  },
  {
   "cell_type": "markdown",
   "id": "d94b61e4",
   "metadata": {},
   "source": [
    "# Acquire Images for Each Exposure Time\n",
    "For each exposure time, acquire a stack of images using the camera. This step may take some time depending on the number of exposure times and coadds."
   ]
  },
  {
   "cell_type": "code",
   "execution_count": null,
   "id": "c416b76d",
   "metadata": {},
   "outputs": [],
   "source": [
    "# Acquire images for each exposure time\n",
    "image_stacks = []\n",
    "for tint in exposure_times:\n",
    "    images = acquire_images(tint, Ncoadd,outdir=outdir,prefix=prefix)\n",
    "    print(f\"Exposure time: {tint} us, images shape: {images.shape}\")\n",
    "    image_stacks.append(images)"
   ]
  },
  {
   "cell_type": "markdown",
   "id": "1f4ed9a1",
   "metadata": {},
   "source": [
    "# Compute Mean Dark Signal\n",
    "For each stack of images, compute the mean signal per pixel for each image, then average over all coadds to get the mean dark current for that exposure time."
   ]
  },
  {
   "cell_type": "code",
   "execution_count": null,
   "id": "f0dae62e",
   "metadata": {},
   "outputs": [],
   "source": [
    "# Assuming image_stacks, exposure_times, outdir, prefix, and Ncoadd are defined\n",
    "\n",
    "dark_currents = []\n",
    "detector_temps = []\n",
    "\n",
    "for tint in exposure_times:\n",
    "    fits_path = os.path.join(outdir, f\"{prefix}_tint{int(tint)}_coadd{Ncoadd}.fits\")\n",
    "    with fits.open(fits_path) as hdul:\n",
    "        mean_image = hdul['MEAN'].data\n",
    "        header = hdul['MEAN'].header\n",
    "        dark_current = np.mean(mean_image)\n",
    "        dark_currents.append(dark_current)\n",
    "        temp = header.get('DETTEMP', None)\n",
    "        detector_temps.append(temp)\n",
    "        print(f\"Exposure time: {tint} us, mean dark: {dark_current:.2f}, temp: {temp}\")\n",
    "dark_currents = np.array(dark_currents)\n",
    "detector_temps = np.array(detector_temps)"
   ]
  },
  {
   "cell_type": "markdown",
   "id": "45659cb7",
   "metadata": {},
   "source": [
    "# Plot Dark Current vs Exposure Time\n",
    "Plot the mean dark current as a function of exposure time using matplotlib. The x-axis is in seconds, and the y-axis is the mean dark signal (ADU)."
   ]
  },
  {
   "cell_type": "code",
   "execution_count": null,
   "id": "61432688",
   "metadata": {},
   "outputs": [],
   "source": [
    "plt.figure(figsize=(8,6))\n",
    "plt.plot(exposure_times/1e6, dark_currents, marker='o', label=f\"Detector Temp: {np.mean(detector_temps):.2f} °C\")\n",
    "plt.xlabel('Exposure Time (s)')\n",
    "plt.ylabel('Mean Dark Signal (ADU)')\n",
    "plt.title('Dark Current vs Exposure Time')\n",
    "plt.legend()\n",
    "plt.grid(True)\n",
    "plt.tight_layout()\n",
    "plt.show()"
   ]
  },
  {
   "cell_type": "markdown",
   "id": "ab6872e2",
   "metadata": {},
   "source": [
    "# Question\n",
    "Is any light hitting the detector? What do you see? Why? What can we do about it?\n",
    "Check out the histogram of the values.\n",
    "For an answer: refer to the concepts of band gap, dark current, and dark (master) frame at the end of this google doc.\n"
   ]
  },
  {
   "cell_type": "markdown",
   "id": "be765a41",
   "metadata": {},
   "source": [
    "# Optional: Compare Dark Current at Different Detector Temperatures\n",
    "\n",
    "In this section, we compare the dark current as a function of exposure time for two different measurement sequences (e.g., taken at different detector temperatures). This allows us to visualize the temperature dependence of the dark current."
   ]
  },
  {
   "cell_type": "code",
   "execution_count": null,
   "id": "465d41bb",
   "metadata": {},
   "outputs": [],
   "source": [
    "from astropy.io import fits\n",
    "import os\n",
    "\n",
    "# Define the two prefixes for the two sequences\n",
    "prefix2 =  \"dark\" # e.g., low temperature sequence\n",
    "prefix1 = \"dark_hot\"   # e.g., high temperature sequence\n",
    "\n",
    "# Function to read dark current and temperature for a given prefix\n",
    "def read_dark_curve(prefix):\n",
    "    dark_currents = []\n",
    "    detector_temps = []\n",
    "    for tint in exposure_times:\n",
    "        fits_path = os.path.join(outdir, f\"{prefix}_tint{int(tint)}_coadd{Ncoadd}.fits\")\n",
    "        with fits.open(fits_path) as hdul:\n",
    "            mean_image = hdul['MEAN'].data\n",
    "            header = hdul['MEAN'].header\n",
    "            dark_current = np.mean(mean_image)\n",
    "            dark_currents.append(dark_current)\n",
    "            temp = header.get('DETTEMP', None)\n",
    "            detector_temps.append(temp)\n",
    "    return np.array(dark_currents), np.array(detector_temps)\n",
    "\n",
    "# Read both sequences\n",
    "curve1, temps1 = read_dark_curve(prefix1)\n",
    "curve2, temps2 = read_dark_curve(prefix2)\n",
    "\n",
    "plt.figure(figsize=(8,6))\n",
    "plt.plot(exposure_times/1e6, curve1, 'o-', label=f\"{prefix1} (T={np.mean(temps1):.2f} °C)\")\n",
    "plt.plot(exposure_times/1e6, curve2, 's-', label=f\"{prefix2} (T={np.mean(temps2):.2f} °C)\")\n",
    "plt.xlabel('Exposure Time (s)')\n",
    "plt.ylabel('Mean Dark Signal (ADU)')\n",
    "plt.title('Dark Current vs Exposure Time at Different Temperatures')\n",
    "plt.legend()\n",
    "plt.grid(True)\n",
    "plt.tight_layout()\n",
    "plt.show()\n"
   ]
  },
  {
   "cell_type": "markdown",
   "id": "7356473b",
   "metadata": {},
   "source": [
    "## Optional 2: Calculate dark current in ADU/sec and plot dark current as a function of temperature..."
   ]
  },
  {
   "cell_type": "code",
   "execution_count": null,
   "id": "45814dab",
   "metadata": {},
   "outputs": [],
   "source": [
    "# Write your own code here."
   ]
  }
 ],
 "metadata": {
  "kernelspec": {
   "display_name": "astrotech_310",
   "language": "python",
   "name": "python3"
  },
  "language_info": {
   "codemirror_mode": {
    "name": "ipython",
    "version": 3
   },
   "file_extension": ".py",
   "mimetype": "text/x-python",
   "name": "python",
   "nbconvert_exporter": "python",
   "pygments_lexer": "ipython3",
   "version": "3.10.18"
  }
 },
 "nbformat": 4,
 "nbformat_minor": 5
}
